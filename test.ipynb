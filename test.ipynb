{
  "nbformat": 4,
  "nbformat_minor": 0,
  "metadata": {
    "colab": {
      "name": "test.ipynb",
      "version": "0.3.2",
      "provenance": []
    },
    "kernelspec": {
      "display_name": "Python",
      "language": "python",
      "name": "python"
    }
  },
  "cells": [
    {
      "metadata": {
        "id": "-7-6eIm7J9JY",
        "colab_type": "code",
        "colab": {}
      },
      "cell_type": "code",
      "source": [
        "import matplotlib.pyplot as plt\n",
        "import numpy as np\n",
        "\n",
        "mean = [100, 100]\n",
        "cov = [[1, 5], [10, 100]]  # diagonal covariance\n",
        "\n",
        "x, y = np.random.multivariate_normal(mean, cov, 1000).T\n",
        "plt.scatter(x, y)"
      ],
      "execution_count": 0,
      "outputs": []
    }
  ]
}